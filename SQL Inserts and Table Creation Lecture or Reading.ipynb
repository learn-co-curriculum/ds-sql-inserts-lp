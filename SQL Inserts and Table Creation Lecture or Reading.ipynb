{
 "cells": [
  {
   "cell_type": "markdown",
   "metadata": {
    "slideshow": {
     "slide_type": "slide"
    }
   },
   "source": [
    "## Working With SQLite"
   ]
  },
  {
   "cell_type": "markdown",
   "metadata": {
    "slideshow": {
     "slide_type": "subslide"
    }
   },
   "source": [
    "SQLite comes standard with Python so all you need to do to get it set up is write:\n",
    "\n",
    "`import sqlite3`"
   ]
  },
  {
   "cell_type": "markdown",
   "metadata": {
    "slideshow": {
     "slide_type": "fragment"
    }
   },
   "source": [
    "There are specific python modules that you can use to work with SQL dbs depending on the DB.\n",
    "\n",
    "- Microsoft SQL = pymssql\n",
    "- Postgres = psycopg2\n",
    "- MySQLdb = MySQLDB"
   ]
  },
  {
   "cell_type": "markdown",
   "metadata": {
    "slideshow": {
     "slide_type": "subslide"
    }
   },
   "source": [
    "### Creating a Connection\n",
    "\n",
    "Before you can do anything with your DB, you must first create a connection with it. For DBs that are server based, this can be more coplicated requiring you to know the server ip, a username, password database name, and port. \n",
    "``` python \n",
    "import MySQLdb\n",
    "conn = MySQLdb.connect(host=host, user=user, passwd=passwd, db=db)\n",
    "```"
   ]
  },
  {
   "cell_type": "markdown",
   "metadata": {
    "slideshow": {
     "slide_type": "subslide"
    }
   },
   "source": [
    "For SQLite, this is much easier because you just need to access the flat file where the DB is stored. "
   ]
  },
  {
   "cell_type": "code",
   "execution_count": 1,
   "metadata": {
    "slideshow": {
     "slide_type": "fragment"
    }
   },
   "outputs": [],
   "source": [
    "import sqlite3\n",
    "\n",
    "conn = sqlite3.connect('tutorial.db')\n"
   ]
  },
  {
   "cell_type": "markdown",
   "metadata": {
    "slideshow": {
     "slide_type": "subslide"
    }
   },
   "source": [
    "#### Cursor\n",
    "This temporary work area is used to store the data retrieved from the database, and manipulate this data. \n",
    "\n",
    "A cursor can hold more than one row, but can process only one row at a time. \n",
    "\n",
    "The set of rows the cursor holds is called the active set."
   ]
  },
  {
   "cell_type": "code",
   "execution_count": 2,
   "metadata": {
    "slideshow": {
     "slide_type": "fragment"
    }
   },
   "outputs": [],
   "source": [
    "c = conn.cursor()"
   ]
  },
  {
   "cell_type": "markdown",
   "metadata": {
    "slideshow": {
     "slide_type": "subslide"
    }
   },
   "source": [
    "#### Create a Table\n",
    "Now that we have a connection and a cursor, lets create a table."
   ]
  },
  {
   "cell_type": "markdown",
   "metadata": {},
   "source": [
    "#### SQLite Data Types\n",
    "\n",
    "Any column declared in an SQLite database is assigned a type affinity depending on it declared data type. Here the list of type affinities in SQLite:\n",
    "\n",
    "- TEXT\n",
    "- NUMERIC\n",
    "- INTEGER\n",
    "- REAL\n",
    "- BLOB"
   ]
  },
  {
   "cell_type": "markdown",
   "metadata": {
    "slideshow": {
     "slide_type": "fragment"
    }
   },
   "source": [
    "However, you still can store any type of data as you wish, these types are recommended not required.\n",
    "\n",
    "These types were introduced in SQLite to maximize the compatibility between SQLite and other database management system."
   ]
  },
  {
   "cell_type": "code",
   "execution_count": null,
   "metadata": {},
   "outputs": [],
   "source": [
    "create_query = \"\"\"CREATE TABLE IF NOT EXISTS stuffToPlot\n",
    "        (unix REAL, datestamp TEXT, keyword TEXT, value REAL)\"\"\"\n",
    "def create_table(query):\n",
    "    c.execute(query)\n"
   ]
  },
  {
   "cell_type": "code",
   "execution_count": null,
   "metadata": {},
   "outputs": [],
   "source": [
    "insert_query = \"\"\"INSERT INTO stuffToPlot VALUES\n",
    "                (1452549219,'2016-01-11 13:53:39','Python',6)\"\"\"\n",
    "def data_entry(query):\n",
    "    c.execute(query)\n",
    "\n",
    "    conn.commit()\n",
    "    \n",
    "def close_c_conn():\n",
    "    c.close()\n",
    "    conn.close()\n",
    "    "
   ]
  },
  {
   "cell_type": "code",
   "execution_count": null,
   "metadata": {
    "slideshow": {
     "slide_type": "fragment"
    }
   },
   "outputs": [],
   "source": [
    "create_table(create_query)\n",
    "data_entry(insert_query)\n",
    "\n",
    "close_c_conn()"
   ]
  },
  {
   "cell_type": "markdown",
   "metadata": {
    "slideshow": {
     "slide_type": "subslide"
    }
   },
   "source": [
    "#### Inserting Data dynamically"
   ]
  },
  {
   "cell_type": "code",
   "execution_count": null,
   "metadata": {
    "slideshow": {
     "slide_type": "fragment"
    }
   },
   "outputs": [],
   "source": [
    "import time\n",
    "import datetime\n",
    "import random"
   ]
  },
  {
   "cell_type": "code",
   "execution_count": null,
   "metadata": {},
   "outputs": [],
   "source": [
    "conn = sqlite3.connect('tutorial.db')\n",
    "c = conn.cursor()"
   ]
  },
  {
   "cell_type": "code",
   "execution_count": null,
   "metadata": {
    "slideshow": {
     "slide_type": "subslide"
    }
   },
   "outputs": [],
   "source": [
    "def dynamic_data_entry():\n",
    "\n",
    "    unix = int(time.time())\n",
    "    date = str(datetime.datetime.fromtimestamp(unix).strftime('%Y-%m-%d %H:%M:%S'))\n",
    "    keyword = 'Python'\n",
    "    value = random.randrange(0,10)\n",
    "\n",
    "    c.execute(\"INSERT INTO stuffToPlot (unix, datestamp, keyword, value) VALUES (?, ?, ?, ?)\",\n",
    "          (unix, date, keyword, value))\n",
    "\n",
    "    conn.commit()"
   ]
  },
  {
   "cell_type": "code",
   "execution_count": null,
   "metadata": {
    "slideshow": {
     "slide_type": "fragment"
    }
   },
   "outputs": [],
   "source": [
    "for i in range(10):\n",
    "    dynamic_data_entry()\n",
    "    time.sleep(1)\n",
    "\n",
    "# c.close\n",
    "# conn.close()"
   ]
  },
  {
   "cell_type": "markdown",
   "metadata": {
    "slideshow": {
     "slide_type": "subslide"
    }
   },
   "source": [
    "We can also write a query that reads from the DB"
   ]
  },
  {
   "cell_type": "code",
   "execution_count": null,
   "metadata": {
    "slideshow": {
     "slide_type": "fragment"
    }
   },
   "outputs": [],
   "source": [
    "def read_from_db():\n",
    "    c.execute('SELECT * FROM stuffToPlot')\n",
    "    data = c.fetchall()\n",
    "    print(data)\n",
    "    for row in data:\n",
    "        print(row)\n",
    "\n",
    "read_from_db()"
   ]
  },
  {
   "cell_type": "markdown",
   "metadata": {
    "slideshow": {
     "slide_type": "subslide"
    }
   },
   "source": [
    "We can also read a table straight into a pandas DF."
   ]
  },
  {
   "cell_type": "code",
   "execution_count": null,
   "metadata": {
    "slideshow": {
     "slide_type": "fragment"
    }
   },
   "outputs": [],
   "source": [
    "import pandas as pd\n",
    "pd.read_sql_query(\"select * from stuffToPlot;\", conn)\n"
   ]
  },
  {
   "cell_type": "markdown",
   "metadata": {
    "slideshow": {
     "slide_type": "subslide"
    }
   },
   "source": [
    "And we can create a DB table directly from a pandas DF."
   ]
  },
  {
   "cell_type": "code",
   "execution_count": null,
   "metadata": {},
   "outputs": [],
   "source": [
    "cities = pd.read_csv('cities.csv')\n",
    "cities.head()"
   ]
  },
  {
   "cell_type": "code",
   "execution_count": null,
   "metadata": {
    "slideshow": {
     "slide_type": "fragment"
    }
   },
   "outputs": [],
   "source": [
    "cities.to_sql(\"cities\", conn, if_exists=\"replace\")\n"
   ]
  },
  {
   "cell_type": "code",
   "execution_count": null,
   "metadata": {},
   "outputs": [],
   "source": [
    "def read_from_db():\n",
    "    c.execute('SELECT * FROM cities LIMIT 10')\n",
    "    data = c.fetchall()\n",
    "    print(data)\n",
    "    for row in data:\n",
    "        print(row)\n",
    "\n",
    "read_from_db()"
   ]
  },
  {
   "cell_type": "markdown",
   "metadata": {},
   "source": [
    "### Your Turn\n",
    "\n",
    "In the zip folder you have a json file with informationa bout all of the students in this class.  \n",
    "- Read in the JSON file\n",
    "- Examine data in file\n",
    "- Create a table for the data\n",
    "- Create a function to insert each data entry dynamically\n",
    "- Insert Data\n",
    "- Write queries to answer the following questions"
   ]
  },
  {
   "cell_type": "code",
   "execution_count": 3,
   "metadata": {},
   "outputs": [],
   "source": [
    "#your code here\n",
    "import json\n",
    "f=open('students.json','r')\n",
    "data=json.load(f)"
   ]
  },
  {
   "cell_type": "code",
   "execution_count": 4,
   "metadata": {
    "collapsed": true
   },
   "outputs": [
    {
     "data": {
      "text/plain": [
       "[{'name': 'Sean Abu Wilson',\n",
       "  'birthdate': '02/06',\n",
       "  'siblings': 2,\n",
       "  'Birthplace': 'Birmingham, AL',\n",
       "  'yearsinnyc': 7.6,\n",
       "  'favoritefood': 'guacamole'},\n",
       " {'name': 'David Miller',\n",
       "  'birthdate': '06/06',\n",
       "  'siblings': 2,\n",
       "  'Birthplace': 'New York, NY',\n",
       "  'yearsinnyc': 25.75,\n",
       "  'favoritefood': 'pizza'},\n",
       " {'name': 'Abhijeet Kamble',\n",
       "  'birthdate': '05/07',\n",
       "  'siblings': 0,\n",
       "  'Birthplace': 'Wardha India',\n",
       "  'yearsinnyc': 0.5,\n",
       "  'favoritefood': 'Biriyani'},\n",
       " {'name': 'Samantha Jackson',\n",
       "  'birthdate': '08/04',\n",
       "  'siblings': 2,\n",
       "  'Birthplace': 'Newport, RI',\n",
       "  'yearsinnyc': 12.5,\n",
       "  'favoritefood': 'chocolate chip cookies'},\n",
       " {'name': 'Anmol Srivats',\n",
       "  'birthdate': '11/19',\n",
       "  'siblings': 0,\n",
       "  'Birthplace': 'Bangalore, India',\n",
       "  'yearsinnyc': 0.05,\n",
       "  'favoritefood': 'Sushi'},\n",
       " {'name': 'Ran Tokman',\n",
       "  'birthdate': '03/19',\n",
       "  'siblings': 2,\n",
       "  'Birthplace': 'Haifa, Israel',\n",
       "  'yearsinnyc': 8,\n",
       "  'favoritefood': 'cheesecake'},\n",
       " {'name': 'Amy Li',\n",
       "  'birthdate': '12/29',\n",
       "  'siblings': 1,\n",
       "  'Birthplace': 'New York, NY',\n",
       "  'yearsinnyc': 18,\n",
       "  'favoritefood': 'dumplings'},\n",
       " {'name': 'Florencia Leoni',\n",
       "  'birthdate': '06/07',\n",
       "  'siblings': 4,\n",
       "  'Birthplace': 'Caracas, Venezuela',\n",
       "  'yearsinnyc': 1.2,\n",
       "  'favoritefood': 'steak'},\n",
       " {'name': 'Austin Krause',\n",
       "  'birthdate': '10/22',\n",
       "  'siblings': 1,\n",
       "  'Birthplace': 'Lansing, MI',\n",
       "  'yearsinnyc': 0.17,\n",
       "  'favoritefood': 'Everything Bagels'},\n",
       " {'name': 'Natalie Overchuk',\n",
       "  'birthdate': '01/02',\n",
       "  'siblings': 2,\n",
       "  'Birthplace': 'Kiev, Ukraine',\n",
       "  'yearsinnyc': 0.1,\n",
       "  'favoritefood': 'pasta'},\n",
       " {'name': 'Akshay Sharma',\n",
       "  'birthdate': '04/30',\n",
       "  'siblings': 2,\n",
       "  'Birthplace': 'New York, NY',\n",
       "  'yearsinnyc': 24,\n",
       "  'favoritefood': 'pizza'},\n",
       " {'name': 'Mohamad Eldebek',\n",
       "  'birthdate': '01/21',\n",
       "  'siblings': 4,\n",
       "  'Birthplace': 'Beirut, Leb',\n",
       "  'yearsinnyc': 17,\n",
       "  'favoritefood': 'Tabouleh'},\n",
       " {'name': 'Adam Dick',\n",
       "  'birthdate': '05/06',\n",
       "  'siblings': 0,\n",
       "  'Birthplace': 'New York, NY',\n",
       "  'yearsinnyc': 30,\n",
       "  'favoritefood': 'noodles'},\n",
       " {'name': 'Menachi Korn',\n",
       "  'birthdate': '04/11',\n",
       "  'siblings': 4,\n",
       "  'Birthplace': 'Denville, N.J.',\n",
       "  'yearsinnyc': 18,\n",
       "  'favoritefood': 'falafel'},\n",
       " {'name': 'Miguel Peña',\n",
       "  'birthdate': '08/14',\n",
       "  'siblings': 4,\n",
       "  'Birthplace': 'Lima, Peru',\n",
       "  'yearsinnyc': 8,\n",
       "  'favoritefood': 'rice'},\n",
       " {'name': 'Atiar Rahman',\n",
       "  'birthdate': '02/21',\n",
       "  'siblings': 2,\n",
       "  'Birthplace': 'Bangladesh',\n",
       "  'yearsinnyc': 22,\n",
       "  'favoritefood': 'Reeses Puffs'},\n",
       " {'name': 'Fhel Dimaano',\n",
       "  'birthdate': '08/20',\n",
       "  'siblings': 1,\n",
       "  'Birthplace': 'Manila, Philippines',\n",
       "  'yearsinnyc': 30,\n",
       "  'favoritefood': 'Kare Kare'},\n",
       " {'name': 'Maks Pazuniak',\n",
       "  'birthdate': '12/19',\n",
       "  'siblings': 2,\n",
       "  'Birthplace': 'Wilmington, DE',\n",
       "  'yearsinnyc': 15,\n",
       "  'favoritefood': 'pho'},\n",
       " {'name': 'Alex Mitrani',\n",
       "  'birthdate': '12/06',\n",
       "  'siblings': 1,\n",
       "  'Birthplace': 'New York, NY',\n",
       "  'yearsinnyc': 28,\n",
       "  'favoritefood': 'Fusilli Sorrentina'},\n",
       " {'name': 'Yish Lim',\n",
       "  'birthdate': '11/21',\n",
       "  'siblings': 2,\n",
       "  'Birthplace': 'Singapore',\n",
       "  'yearsinnyc': 5,\n",
       "  'favoritefood': 'burgers'},\n",
       " {'name': 'Nicole Roach',\n",
       "  'birthdate': '06/16',\n",
       "  'siblings': 1,\n",
       "  'Birthplace': 'Brooklyn, NY',\n",
       "  'yearsinnyc': 18,\n",
       "  'favoritefood': 'steak'},\n",
       " {'name': 'Omer Hakim',\n",
       "  'birthdate': '04/30',\n",
       "  'siblings': 3,\n",
       "  'Birthplace': 'Haifa, Israel',\n",
       "  'yearsinnyc': 3.5,\n",
       "  'favoritefood': 'Avocado'}]"
      ]
     },
     "execution_count": 4,
     "metadata": {},
     "output_type": "execute_result"
    }
   ],
   "source": [
    "data"
   ]
  },
  {
   "cell_type": "code",
   "execution_count": 6,
   "metadata": {},
   "outputs": [],
   "source": [
    "import sqlite3\n",
    "\n",
    "conn = sqlite3.connect('tutorial.db')\n",
    "c = conn.cursor()"
   ]
  },
  {
   "cell_type": "code",
   "execution_count": 8,
   "metadata": {},
   "outputs": [
    {
     "ename": "OperationalError",
     "evalue": "table students already exists",
     "output_type": "error",
     "traceback": [
      "\u001b[0;31m---------------------------------------------------------------------------\u001b[0m",
      "\u001b[0;31mOperationalError\u001b[0m                          Traceback (most recent call last)",
      "\u001b[0;32m<ipython-input-8-c680d32c72e6>\u001b[0m in \u001b[0;36m<module>\u001b[0;34m\u001b[0m\n\u001b[1;32m      9\u001b[0m \u001b[0mfavorite_food\u001b[0m \u001b[0mTEXT\u001b[0m\u001b[0;34m\u001b[0m\u001b[0;34m\u001b[0m\u001b[0m\n\u001b[1;32m     10\u001b[0m );\n\u001b[0;32m---> 11\u001b[0;31m ''')\n\u001b[0m\u001b[1;32m     12\u001b[0m \u001b[0;34m\u001b[0m\u001b[0m\n\u001b[1;32m     13\u001b[0m \u001b[0mc\u001b[0m\u001b[0;34m.\u001b[0m\u001b[0mcommit\u001b[0m\u001b[0;34m(\u001b[0m\u001b[0;34m)\u001b[0m\u001b[0;34m\u001b[0m\u001b[0;34m\u001b[0m\u001b[0m\n",
      "\u001b[0;31mOperationalError\u001b[0m: table students already exists"
     ]
    }
   ],
   "source": [
    "\n",
    "c.execute('''\n",
    "CREATE TABLE students(\n",
    "name TEXT,\n",
    "birthdate TEXT,\n",
    "siblings INTEGER,\n",
    "birth_place TEXT,\n",
    "years_in_nyc REAL,\n",
    "favorite_food TEXT\n",
    ");\n",
    "''')\n",
    "\n",
    "c.commit()"
   ]
  },
  {
   "cell_type": "code",
   "execution_count": null,
   "metadata": {},
   "outputs": [],
   "source": [
    "#If you get this error, you can clear a previously named table (WARNING: ALL DATA WILL BE LOST!!)\n",
    "c.execute(\"\"\"Drop Table if Exists students;\"\"\")\n",
    "\n",
    "#From there, you can then recreate the table using the above code."
   ]
  },
  {
   "cell_type": "code",
   "execution_count": 13,
   "metadata": {},
   "outputs": [],
   "source": [
    "conn.commit()"
   ]
  },
  {
   "cell_type": "code",
   "execution_count": null,
   "metadata": {},
   "outputs": [],
   "source": [
    "def insert_data(i):"
   ]
  },
  {
   "cell_type": "code",
   "execution_count": 12,
   "metadata": {},
   "outputs": [],
   "source": [
    "for i in data:\n",
    "  c.execute('''INSERT INTO students\n",
    "  (name, birthdate, siblings, birth_place, years_in_nyc, favorite_food) VALUES (?, ?, ?, ? , ? , ? )''',\n",
    "     (i['name'],i['birthdate'], i['siblings'], i['Birthplace'], i['yearsinnyc'], i['favoritefood']))"
   ]
  },
  {
   "cell_type": "code",
   "execution_count": null,
   "metadata": {},
   "outputs": [],
   "source": [
    "content_file:\n",
    "    raw = json.load(content_file)\n",
    "    records = []\n",
    "    \n",
    "    for line in content_file:\n",
    "        jo = line\n",
    "        record = (jo.get('name'), jo.get('birthdate'), jo.get('siblings'), jo.get('Birthplace'), jo.get('yearsinnyc'), jo.get('favoritefood'))\n",
    "        records.append(record)\n",
    "\n",
    "    try:\n",
    "        conn = sqlite3.connect(\"students\")\n",
    "        c = conn.cursor()\n",
    "        c.executemany(\"INSERT INTO students VALUES (?, ?, ?, ?, ?, ?,?)\", records)\n",
    "        conn.commit()\n",
    "#         conn.close()\n",
    "    except:\n",
    "        # TODO: logging here\n",
    "        raise\n",
    "\n",
    "print(\"Finished Processing\")"
   ]
  }
 ],
 "metadata": {
  "kernelspec": {
   "display_name": "Python 3",
   "language": "python",
   "name": "python3"
  },
  "language_info": {
   "codemirror_mode": {
    "name": "ipython",
    "version": 3
   },
   "file_extension": ".py",
   "mimetype": "text/x-python",
   "name": "python",
   "nbconvert_exporter": "python",
   "pygments_lexer": "ipython3",
   "version": "3.6.5"
  }
 },
 "nbformat": 4,
 "nbformat_minor": 2
}
